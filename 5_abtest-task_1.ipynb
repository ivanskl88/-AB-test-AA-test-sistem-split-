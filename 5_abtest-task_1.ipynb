{
 "cells": [
  {
   "cell_type": "markdown",
   "id": "898a2b6c-5259-49f2-9d29-519bf34c0763",
   "metadata": {},
   "source": [
    "# 5 Урок: A/b-тесты\n",
    "---\n"
   ]
  },
  {
   "cell_type": "markdown",
   "id": "cedcc6cd-4b0b-4331-81ef-baa1554657f9",
   "metadata": {},
   "source": [
    "## Задание №1: АА-тест\n",
    "\n",
    "**Описание:** нам нужно убедится, что наша система сплитования работает корректно. Для это проведем АА-тест и посмотрим на результаты\n",
    "\n",
    "**Цель:** у нас есть данные АА-теста с `2023-01-24` по `2023-01-30`. Вам нужно **сделать симуляцию**, как будто мы провели **10 000 АА-тестов**. На каждой итерации вам нужно **сформировать подвыборки без повторения в 500 юзеров из 2 и 3 экспериментальной группы**. Провести сравнение этих подвыборок t-testом.\n",
    "\n",
    " 1. Построить гистограмму распределения получившихся 10000 p-values.\n",
    "\n",
    " 2. Посчитать, какой процент p values оказался меньше либо равен 0.05\n",
    "\n",
    " 3. Написать вывод по проведенному АА-тесту, корректно ли работает наша система сплитования.\n",
    "\n",
    " 4. Пришлите ссылку на merge request c проведенным анализом."
   ]
  },
  {
   "cell_type": "markdown",
   "id": "b67e1551-a1e6-4e06-9588-f65ed2490fb4",
   "metadata": {},
   "source": [
    "---\n",
    "## Добавим необходимые библиотеки и установим соединение"
   ]
  },
  {
   "cell_type": "code",
   "execution_count": 69,
   "id": "5d3708f5-e707-452a-ac6b-2b4324c768e8",
   "metadata": {},
   "outputs": [],
   "source": [
    "# добавим необходимые библиотеки\n",
    "\n",
    "import pandas as pd\n",
    "import pandahouse as ph\n",
    "import matplotlib.pyplot as plt\n",
    "import seaborn as sns\n",
    "import numpy as np\n",
    "from scipy import stats"
   ]
  },
  {
   "cell_type": "code",
   "execution_count": 7,
   "id": "b04e35ab-ff7f-453d-a0e1-92d6b0c3611d",
   "metadata": {},
   "outputs": [],
   "source": [
    "# \n",
    "\n",
    "sns.set(rc={'figure.figsize': (12, 9)})"
   ]
  },
  {
   "cell_type": "code",
   "execution_count": 3,
   "id": "2490066d-45bb-4a76-828a-d807e918919b",
   "metadata": {},
   "outputs": [],
   "source": [
    "# установим соединение \n",
    "\n",
    "con = {\n",
    "    'host': '*****',\n",
    "    'password': '*****',\n",
    "    'user': '*****',\n",
    "    'database': '*****'\n",
    "}"
   ]
  },
  {
   "cell_type": "markdown",
   "id": "3086adfe-a0d4-433c-8612-adc824fb88e3",
   "metadata": {},
   "source": [
    "## АА-тест\n",
    "\n",
    "А нас есть данные АА-теста с `2023-01-24` по `2023-01-30`, а группы которые нас интересуют = 2 и 3"
   ]
  },
  {
   "cell_type": "code",
   "execution_count": 4,
   "id": "7c21c768-b877-459a-b872-56cac1589a07",
   "metadata": {},
   "outputs": [],
   "source": [
    "# напишем наш запрос к БД\n",
    "\n",
    "query = '''\n",
    "\n",
    "SELECT exp_group,\n",
    "       user_id,\n",
    "       sum(action = 'view') AS view,\n",
    "       sum(action = 'like') AS like,\n",
    "       like / view AS ctr\n",
    "FROM simulator_20230220.feed_actions       \n",
    "WHERE (toDate(time) >= '2022-01-24' AND toDate(time) <='2023-01-30')\n",
    "      AND exp_group IN (2,3)\n",
    "GROUP BY exp_group, user_id\n",
    "\n",
    "\n",
    "'''"
   ]
  },
  {
   "cell_type": "code",
   "execution_count": 5,
   "id": "d6f3f59f-de74-4902-bbd8-c06b5f766b81",
   "metadata": {},
   "outputs": [],
   "source": [
    "# поместим наши данные в переменную df\n",
    "\n",
    "df = ph.read_clickhouse(query, connection=con)"
   ]
  },
  {
   "cell_type": "code",
   "execution_count": 10,
   "id": "67f082d6-9726-4bd1-a78a-ec3075116b2d",
   "metadata": {},
   "outputs": [
    {
     "data": {
      "text/html": [
       "<div>\n",
       "<style scoped>\n",
       "    .dataframe tbody tr th:only-of-type {\n",
       "        vertical-align: middle;\n",
       "    }\n",
       "\n",
       "    .dataframe tbody tr th {\n",
       "        vertical-align: top;\n",
       "    }\n",
       "\n",
       "    .dataframe thead th {\n",
       "        text-align: right;\n",
       "    }\n",
       "</style>\n",
       "<table border=\"1\" class=\"dataframe\">\n",
       "  <thead>\n",
       "    <tr style=\"text-align: right;\">\n",
       "      <th></th>\n",
       "      <th>exp_group</th>\n",
       "      <th>user_id</th>\n",
       "      <th>view</th>\n",
       "      <th>like</th>\n",
       "      <th>ctr</th>\n",
       "    </tr>\n",
       "  </thead>\n",
       "  <tbody>\n",
       "    <tr>\n",
       "      <th>0</th>\n",
       "      <td>3</td>\n",
       "      <td>115383</td>\n",
       "      <td>200</td>\n",
       "      <td>64</td>\n",
       "      <td>0.320000</td>\n",
       "    </tr>\n",
       "    <tr>\n",
       "      <th>1</th>\n",
       "      <td>3</td>\n",
       "      <td>10326</td>\n",
       "      <td>131</td>\n",
       "      <td>30</td>\n",
       "      <td>0.229008</td>\n",
       "    </tr>\n",
       "    <tr>\n",
       "      <th>2</th>\n",
       "      <td>2</td>\n",
       "      <td>131473</td>\n",
       "      <td>148</td>\n",
       "      <td>26</td>\n",
       "      <td>0.175676</td>\n",
       "    </tr>\n",
       "    <tr>\n",
       "      <th>3</th>\n",
       "      <td>3</td>\n",
       "      <td>123580</td>\n",
       "      <td>170</td>\n",
       "      <td>21</td>\n",
       "      <td>0.123529</td>\n",
       "    </tr>\n",
       "    <tr>\n",
       "      <th>4</th>\n",
       "      <td>2</td>\n",
       "      <td>23985</td>\n",
       "      <td>66</td>\n",
       "      <td>12</td>\n",
       "      <td>0.181818</td>\n",
       "    </tr>\n",
       "  </tbody>\n",
       "</table>\n",
       "</div>"
      ],
      "text/plain": [
       "   exp_group  user_id  view  like       ctr\n",
       "0          3   115383   200    64  0.320000\n",
       "1          3    10326   131    30  0.229008\n",
       "2          2   131473   148    26  0.175676\n",
       "3          3   123580   170    21  0.123529\n",
       "4          2    23985    66    12  0.181818"
      ]
     },
     "execution_count": 10,
     "metadata": {},
     "output_type": "execute_result"
    }
   ],
   "source": [
    "# выведем данные на экран\n",
    "\n",
    "df.head()"
   ]
  },
  {
   "cell_type": "code",
   "execution_count": 18,
   "id": "e9c9a7eb-12c4-4370-87d8-3919e0ddc8cb",
   "metadata": {},
   "outputs": [
    {
     "data": {
      "text/html": [
       "<div>\n",
       "<style scoped>\n",
       "    .dataframe tbody tr th:only-of-type {\n",
       "        vertical-align: middle;\n",
       "    }\n",
       "\n",
       "    .dataframe tbody tr th {\n",
       "        vertical-align: top;\n",
       "    }\n",
       "\n",
       "    .dataframe thead th {\n",
       "        text-align: right;\n",
       "    }\n",
       "</style>\n",
       "<table border=\"1\" class=\"dataframe\">\n",
       "  <thead>\n",
       "    <tr style=\"text-align: right;\">\n",
       "      <th></th>\n",
       "      <th>user_id</th>\n",
       "      <th>view</th>\n",
       "      <th>like</th>\n",
       "      <th>ctr</th>\n",
       "    </tr>\n",
       "    <tr>\n",
       "      <th>exp_group</th>\n",
       "      <th></th>\n",
       "      <th></th>\n",
       "      <th></th>\n",
       "      <th></th>\n",
       "    </tr>\n",
       "  </thead>\n",
       "  <tbody>\n",
       "    <tr>\n",
       "      <th>2</th>\n",
       "      <td>10234</td>\n",
       "      <td>10234</td>\n",
       "      <td>10234</td>\n",
       "      <td>10234</td>\n",
       "    </tr>\n",
       "    <tr>\n",
       "      <th>3</th>\n",
       "      <td>10368</td>\n",
       "      <td>10368</td>\n",
       "      <td>10368</td>\n",
       "      <td>10368</td>\n",
       "    </tr>\n",
       "  </tbody>\n",
       "</table>\n",
       "</div>"
      ],
      "text/plain": [
       "           user_id   view   like    ctr\n",
       "exp_group                              \n",
       "2            10234  10234  10234  10234\n",
       "3            10368  10368  10368  10368"
      ]
     },
     "execution_count": 18,
     "metadata": {},
     "output_type": "execute_result"
    }
   ],
   "source": [
    "# посмотрим на размер нашиг групп\n",
    "\n",
    "df.groupby('exp_group').count()"
   ]
  },
  {
   "cell_type": "markdown",
   "id": "dca421ba-5e91-46b8-8daf-0faa32cab2e5",
   "metadata": {},
   "source": [
    "Размер в группах примерно одинаковвый."
   ]
  },
  {
   "cell_type": "code",
   "execution_count": 23,
   "id": "d6a8ad37-2b11-4f1a-97a3-704addaf4d3f",
   "metadata": {},
   "outputs": [
    {
     "data": {
      "image/png": "[encoded data removed]",
      "text/plain": [
       "<Figure size 864x648 with 1 Axes>"
      ]
     },
     "metadata": {},
     "output_type": "display_data"
    }
   ],
   "source": [
    "# посмотрим на распределение ctr в группах\n",
    "\n",
    "plt.title('Распределение CTR по группам')\n",
    "sns.histplot(data=df, x='ctr', hue='exp_group', palette=['g', 'r'], alpha= .5);"
   ]
  },
  {
   "cell_type": "markdown",
   "id": "90454a92-5f1a-45cf-aba7-b484bcbaab22",
   "metadata": {},
   "source": [
    "Визуально каких либо значимых отличий у распределений нет. Мы не наблюдаем какой-то явной скошенности или смещения. \n",
    "\n",
    "Проведем множественные t-тесты на псевдовыборках и узнаем их уровень p-value."
   ]
  },
  {
   "cell_type": "code",
   "execution_count": 86,
   "id": "ebdfc890-eb85-45d5-8328-cce24c95092c",
   "metadata": {},
   "outputs": [],
   "source": [
    "# проведем 10000 t-тестов из псевдовыборок по 500 значений в каждой без повторений в них а результаты p-value запишем в переменную result\n",
    "\n",
    "result = []\n",
    "\n",
    "for i in range(10000):\n",
    "    result.append(\n",
    "        stats.ttest_ind(df[df.exp_group == 2].ctr.sample(500, replace=False),\n",
    "                        df[df.exp_group == 3].ctr.sample(500, replace=False),\n",
    "                        equal_var = False)[1])\n"
   ]
  },
  {
   "cell_type": "code",
   "execution_count": 87,
   "id": "212692bc-e0d1-4e29-90c8-4c77709cf575",
   "metadata": {},
   "outputs": [],
   "source": [
    "# для удобства дальнейших расчетов переведем наш список в массив numpy.array\n",
    "\n",
    "p_values = np.array(result)"
   ]
  },
  {
   "cell_type": "code",
   "execution_count": 88,
   "id": "bb275fd6-7d61-4deb-9bf1-d82c8618b3c0",
   "metadata": {},
   "outputs": [
    {
     "data": {
      "text/plain": [
       "10000"
      ]
     },
     "execution_count": 88,
     "metadata": {},
     "output_type": "execute_result"
    }
   ],
   "source": [
    "# проверим размер наших расчетов, должно быть = 10000\n",
    "\n",
    "p_values.size"
   ]
  },
  {
   "cell_type": "code",
   "execution_count": 137,
   "id": "2ade05db-cd81-404b-9994-9d3992ab3df9",
   "metadata": {},
   "outputs": [
    {
     "data": {
      "image/png": "[encoded data removed]",
      "text/plain": [
       "<Figure size 864x648 with 1 Axes>"
      ]
     },
     "metadata": {},
     "output_type": "display_data"
    }
   ],
   "source": [
    "# теперь построим гистограмму распределений\n",
    "\n",
    "plt.title('Распределение значений p-value из наших псевдовыборок')\n",
    "plt.xlabel('%')\n",
    "plt.ylabel('count')\n",
    "sns.histplot(p_values)\n",
    "plt.xticks(ticks=[.05, .1, .3, .5, .7, .9]);"
   ]
  },
  {
   "cell_type": "markdown",
   "id": "333806f7-e540-446e-ab46-2ce7a388529e",
   "metadata": {},
   "source": [
    "По распределению мы видим, что в большинстве случаев уровень p-value выше отметки в 5% - это может говорить о корректной работе системы сплитования. Давайте еще, на всякий случай, посчитаем долю ложных срабатываний."
   ]
  },
  {
   "cell_type": "code",
   "execution_count": 149,
   "id": "70ed3423-74cf-44a4-9365-07bc79e1d0fe",
   "metadata": {},
   "outputs": [
    {
     "name": "stdout",
     "output_type": "stream",
     "text": [
      "\n",
      "Если мы отвергаем нулевую гипотезу при условии, что p_value < 0.05, \n",
      "то только приблизительно в 5% случаев у нас бы получались статистические значимые различия между группами\n",
      "\n",
      "В нашем случае статистически значимые различия между двумя группами встречались в 4.31% случаев.\n",
      "\n",
      "\n"
     ]
    }
   ],
   "source": [
    "# расчитаем долю ложны срабатываний\n",
    "\n",
    "print('''\n",
    "Если мы отвергаем нулевую гипотезу при условии, что p_value < 0.05, \n",
    "то только приблизительно в 5% случаев у нас бы получались статистические значимые различия между группами\n",
    "\n",
    "В нашем случае статистически значимые различия между двумя группами встречались в {:.2%} случаев.\n",
    "\n",
    "'''.format(p_values[p_values <= .05].size / p_values.size))"
   ]
  },
  {
   "cell_type": "markdown",
   "id": "fc8f938e-35a8-47de-80ac-8130aed3441c",
   "metadata": {},
   "source": [
    ">**Вывод:**\n",
    ">\n",
    "> Cистема сплитования работает корректно. Из наших выборок мы извлекли **10000** подвыборок размером 500 каждая и провели t-тест для каждой. Далее мы построили гистограмму \n",
    "> распределения для наших p-values и высчитали процент статистически ложных срабатываний. Нам не удалось опровергнуть, что наши выбоки различны. Поэтому можем заметить, что наша \n",
    "> **система сплитования работает корректно**.  "
   ]
  }
 ],
 "metadata": {
  "kernelspec": {
   "display_name": "Python 3 (ipykernel)",
   "language": "python",
   "name": "python3"
  },
  "language_info": {
   "codemirror_mode": {
    "name": "ipython",
    "version": 3
   },
   "file_extension": ".py",
   "mimetype": "text/x-python",
   "name": "python",
   "nbconvert_exporter": "python",
   "pygments_lexer": "ipython3",
   "version": "3.10.9"
  }
 },
 "nbformat": 4,
 "nbformat_minor": 5
}
